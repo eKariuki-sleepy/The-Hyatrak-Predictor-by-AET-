{
  "nbformat": 4,
  "nbformat_minor": 0,
  "metadata": {
    "colab": {
      "provenance": [],
      "collapsed_sections": []
    },
    "kernelspec": {
      "name": "python3",
      "display_name": "Python 3"
    }
  },
  "cells": [
    {
      "cell_type": "markdown",
      "metadata": {
        "id": "s_UfmKI-KF3t"
      },
      "source": [
        "# Landsat 8 and Modis Data Download & Preprocessing\n",
        "This notebook shows you how to use GeoPandas and Google Earth Engine to:\n",
        "\n",
        "1. Download Modis and Landsat 8 data\n",
        "2. Download and use CHIRPS dataset\n",
        "3. Calculate NDVI, NDBI and NDWI\n",
        "4. Perfrom area (km²) calculation"
      ]
    },
    {
      "cell_type": "markdown",
      "metadata": {
        "id": "3uT3nGcmwNHj"
      },
      "source": [
        "## Installation"
      ]
    },
    {
      "cell_type": "code",
      "metadata": {
        "id": "JN_NZz2XtgKm"
      },
      "source": [
        "!pip -q install geopandas\n",
        "!pip -q install geojson\n",
        "!pip -q install --upgrade folium\n",
        "!pip -q install -U geemap\n",
        "!pip -q install rasterio\n",
        "!pip -q install tqdm\n",
        "\n",
        "!apt install libspatialindex-dev\n",
        "!pip -q install rtree\n",
        "!pip -q install eeconvert\n",
        "#!pip -q uninstall tornado\n",
        "!pip -q install tornado==5.1.0 # to ensure geemap gets installed\n",
        "!pip -q install urllib3\n",
        "\n"
      ],
      "execution_count": null,
      "outputs": []
    },
    {
      "cell_type": "markdown",
      "metadata": {
        "id": "L0ZDKowgwPaM"
      },
      "source": [
        "## Imports & Setup"
      ]
    },
    {
      "cell_type": "code",
      "metadata": {
        "id": "Ew3_MrrGslr4"
      },
      "source": [
        "\n",
        "%matplotlib inline\n",
        "import matplotlib.pyplot as plt\n",
        "from tqdm import tqdm\n",
        "import json\n",
        "import geojson\n",
        "import requests\n",
        "\n",
        "import rasterio as rio\n",
        "from rasterio.plot import show\n",
        "import rasterio.mask\n",
        "import geopandas as gpd\n",
        "import numpy as np\n",
        "from shapely.geometry import Point, Polygon\n",
        "\n",
        "\n",
        "from rasterio import windows\n",
        "from shapely.geometry import box\n",
        "import pandas as pd\n",
        "\n",
        "import ee\n",
        "import geemap\n",
        "import geemap.eefolium as emap\n",
        "\n"
      ],
      "execution_count": null,
      "outputs": []
    },
    {
      "cell_type": "markdown",
      "metadata": {
        "id": "u7UQeErEItTQ"
      },
      "source": [
        "## Mount Drive"
      ]
    },
    {
      "cell_type": "code",
      "metadata": {
        "id": "IQvQCFgfIsoo",
        "colab": {
          "base_uri": "https://localhost:8080/"
        },
        "outputId": "8cc041ee-2fd1-4b43-a78d-e356ea8a3ccd"
      },
      "source": [
        "from google.colab import drive\n",
        "drive.mount('/content/drive', force_remount=True)"
      ],
      "execution_count": null,
      "outputs": [
        {
          "output_type": "stream",
          "name": "stdout",
          "text": [
            "Mounted at /content/drive\n"
          ]
        }
      ]
    },
    {
      "cell_type": "markdown",
      "metadata": {
        "id": "N8JfmJxa043J"
      },
      "source": [
        "### Authenticate Google Earth Engine"
      ]
    },
    {
      "cell_type": "code",
      "metadata": {
        "id": "w5nXj4Fo03Wr",
        "colab": {
          "base_uri": "https://localhost:8080/"
        },
        "outputId": "d458f112-a281-424f-a68c-4d8820ec3391"
      },
      "source": [
        "ee.Authenticate()\n",
        "ee.Initialize()"
      ],
      "execution_count": null,
      "outputs": [
        {
          "output_type": "stream",
          "name": "stdout",
          "text": [
            "To authorize access needed by Earth Engine, open the following URL in a web browser and follow the instructions. If the web browser does not start automatically, please manually browse the URL below.\n",
            "\n",
            "    https://code.earthengine.google.com/client-auth?scopes=https%3A//www.googleapis.com/auth/earthengine%20https%3A//www.googleapis.com/auth/devstorage.full_control&request_id=yplsFV7t_L313osC6ZaNhhXruOZwUQ0EThTsbt55bAw&tc=BRaz37tXKW-nnES2eOrtcJ_Ug5UrDMXdo8hip46W0sI&cc=GZjDL6G85LKnw5LXYo1T4ZJe74BoX92u8gzfW35QlQ4\n",
            "\n",
            "The authorization workflow will generate a code, which you should paste in the box below.\n",
            "Enter verification code: 4/1ARtbsJrSDhCrADDrQMxbBcmeC0Jf5dRKOSaS6_a2VB9uqBPdL8oXMpTHZJU\n",
            "\n",
            "Successfully saved authorization token.\n"
          ]
        }
      ]
    },
    {
      "cell_type": "markdown",
      "source": [],
      "metadata": {
        "id": "R3uAJtaXGsNK"
      }
    },
    {
      "cell_type": "markdown",
      "metadata": {
        "id": "_4hf8Z5CwSOE"
      },
      "source": [
        "## Fetch AOI from google drive...hopefully you had earlier saved it"
      ]
    },
    {
      "cell_type": "code",
      "metadata": {
        "id": "Qsd6loaZXfgR"
      },
      "source": [
        "winam_with_lake_path = './drive/My Drive/side gig/Hyacinth_eric/Winam_buffer.geojson'#Change this to your geojson file destination path\n",
        "winam_lake_path= './drive/My Drive/side gig/Hyacinth_eric/Winam_lake.geojson'# Winam_lake_minus_island\n",
        "winam_without_lake_path='./drive/My Drive/side gig/Hyacinth_eric/Winam_buffer_minus_lake.geojson'\n"
      ],
      "execution_count": null,
      "outputs": []
    },
    {
      "cell_type": "markdown",
      "metadata": {
        "id": "DU6WjKOAzWh5"
      },
      "source": [
        "## Visualize AOI "
      ]
    },
    {
      "cell_type": "code",
      "metadata": {
        "id": "hW8zZOy9t613",
        "colab": {
          "base_uri": "https://localhost:8080/",
          "height": 81
        },
        "outputId": "74a46cb9-97fa-4fb9-ccdb-6955422f2c9a"
      },
      "source": [
        "\n",
        "##load the geojson\n",
        "winam_with_lake=gpd.read_file(winam_with_lake_path)\n",
        "winam_lake=gpd.read_file(winam_lake_path)\n",
        "winam_without_lake=gpd.read_file(winam_without_lake_path)\n",
        "winam_with_lake.head(3)"
      ],
      "execution_count": null,
      "outputs": [
        {
          "output_type": "execute_result",
          "data": {
            "text/plain": [
              "            LAKE ETYPE                            layer  \\\n",
              "0  Lake Victoria  None  L_Victoria_Arc1960_utm37s_split   \n",
              "\n",
              "                                                path  \\\n",
              "0  D:/PROJECTS/Humburg_Lake_Victoria/vector data/...   \n",
              "\n",
              "                                            geometry  \n",
              "0  MULTIPOLYGON (((34.10897 -0.54130, 34.12196 -0...  "
            ],
            "text/html": [
              "\n",
              "  <div id=\"df-562fbc69-2973-4715-8ea1-173a3981d618\">\n",
              "    <div class=\"colab-df-container\">\n",
              "      <div>\n",
              "<style scoped>\n",
              "    .dataframe tbody tr th:only-of-type {\n",
              "        vertical-align: middle;\n",
              "    }\n",
              "\n",
              "    .dataframe tbody tr th {\n",
              "        vertical-align: top;\n",
              "    }\n",
              "\n",
              "    .dataframe thead th {\n",
              "        text-align: right;\n",
              "    }\n",
              "</style>\n",
              "<table border=\"1\" class=\"dataframe\">\n",
              "  <thead>\n",
              "    <tr style=\"text-align: right;\">\n",
              "      <th></th>\n",
              "      <th>LAKE</th>\n",
              "      <th>ETYPE</th>\n",
              "      <th>layer</th>\n",
              "      <th>path</th>\n",
              "      <th>geometry</th>\n",
              "    </tr>\n",
              "  </thead>\n",
              "  <tbody>\n",
              "    <tr>\n",
              "      <th>0</th>\n",
              "      <td>Lake Victoria</td>\n",
              "      <td>None</td>\n",
              "      <td>L_Victoria_Arc1960_utm37s_split</td>\n",
              "      <td>D:/PROJECTS/Humburg_Lake_Victoria/vector data/...</td>\n",
              "      <td>MULTIPOLYGON (((34.10897 -0.54130, 34.12196 -0...</td>\n",
              "    </tr>\n",
              "  </tbody>\n",
              "</table>\n",
              "</div>\n",
              "      <button class=\"colab-df-convert\" onclick=\"convertToInteractive('df-562fbc69-2973-4715-8ea1-173a3981d618')\"\n",
              "              title=\"Convert this dataframe to an interactive table.\"\n",
              "              style=\"display:none;\">\n",
              "        \n",
              "  <svg xmlns=\"http://www.w3.org/2000/svg\" height=\"24px\"viewBox=\"0 0 24 24\"\n",
              "       width=\"24px\">\n",
              "    <path d=\"M0 0h24v24H0V0z\" fill=\"none\"/>\n",
              "    <path d=\"M18.56 5.44l.94 2.06.94-2.06 2.06-.94-2.06-.94-.94-2.06-.94 2.06-2.06.94zm-11 1L8.5 8.5l.94-2.06 2.06-.94-2.06-.94L8.5 2.5l-.94 2.06-2.06.94zm10 10l.94 2.06.94-2.06 2.06-.94-2.06-.94-.94-2.06-.94 2.06-2.06.94z\"/><path d=\"M17.41 7.96l-1.37-1.37c-.4-.4-.92-.59-1.43-.59-.52 0-1.04.2-1.43.59L10.3 9.45l-7.72 7.72c-.78.78-.78 2.05 0 2.83L4 21.41c.39.39.9.59 1.41.59.51 0 1.02-.2 1.41-.59l7.78-7.78 2.81-2.81c.8-.78.8-2.07 0-2.86zM5.41 20L4 18.59l7.72-7.72 1.47 1.35L5.41 20z\"/>\n",
              "  </svg>\n",
              "      </button>\n",
              "      \n",
              "  <style>\n",
              "    .colab-df-container {\n",
              "      display:flex;\n",
              "      flex-wrap:wrap;\n",
              "      gap: 12px;\n",
              "    }\n",
              "\n",
              "    .colab-df-convert {\n",
              "      background-color: #E8F0FE;\n",
              "      border: none;\n",
              "      border-radius: 50%;\n",
              "      cursor: pointer;\n",
              "      display: none;\n",
              "      fill: #1967D2;\n",
              "      height: 32px;\n",
              "      padding: 0 0 0 0;\n",
              "      width: 32px;\n",
              "    }\n",
              "\n",
              "    .colab-df-convert:hover {\n",
              "      background-color: #E2EBFA;\n",
              "      box-shadow: 0px 1px 2px rgba(60, 64, 67, 0.3), 0px 1px 3px 1px rgba(60, 64, 67, 0.15);\n",
              "      fill: #174EA6;\n",
              "    }\n",
              "\n",
              "    [theme=dark] .colab-df-convert {\n",
              "      background-color: #3B4455;\n",
              "      fill: #D2E3FC;\n",
              "    }\n",
              "\n",
              "    [theme=dark] .colab-df-convert:hover {\n",
              "      background-color: #434B5C;\n",
              "      box-shadow: 0px 1px 3px 1px rgba(0, 0, 0, 0.15);\n",
              "      filter: drop-shadow(0px 1px 2px rgba(0, 0, 0, 0.3));\n",
              "      fill: #FFFFFF;\n",
              "    }\n",
              "  </style>\n",
              "\n",
              "      <script>\n",
              "        const buttonEl =\n",
              "          document.querySelector('#df-562fbc69-2973-4715-8ea1-173a3981d618 button.colab-df-convert');\n",
              "        buttonEl.style.display =\n",
              "          google.colab.kernel.accessAllowed ? 'block' : 'none';\n",
              "\n",
              "        async function convertToInteractive(key) {\n",
              "          const element = document.querySelector('#df-562fbc69-2973-4715-8ea1-173a3981d618');\n",
              "          const dataTable =\n",
              "            await google.colab.kernel.invokeFunction('convertToInteractive',\n",
              "                                                     [key], {});\n",
              "          if (!dataTable) return;\n",
              "\n",
              "          const docLinkHtml = 'Like what you see? Visit the ' +\n",
              "            '<a target=\"_blank\" href=https://colab.research.google.com/notebooks/data_table.ipynb>data table notebook</a>'\n",
              "            + ' to learn more about interactive tables.';\n",
              "          element.innerHTML = '';\n",
              "          dataTable['output_type'] = 'display_data';\n",
              "          await google.colab.output.renderOutput(dataTable, element);\n",
              "          const docLink = document.createElement('div');\n",
              "          docLink.innerHTML = docLinkHtml;\n",
              "          element.appendChild(docLink);\n",
              "        }\n",
              "      </script>\n",
              "    </div>\n",
              "  </div>\n",
              "  "
            ]
          },
          "metadata": {},
          "execution_count": 7
        }
      ]
    },
    {
      "cell_type": "code",
      "metadata": {
        "colab": {
          "base_uri": "https://localhost:8080/",
          "height": 273
        },
        "id": "A42SBPW8bM0h",
        "outputId": "c508f0ff-7ef4-496f-8637-bcc047ee9ed8"
      },
      "source": [
        "#Visualize the AOI\n",
        "\n",
        "winam_lake.plot()\n",
        "plt.title(\"area of interest\")\n",
        "plt.show()\n"
      ],
      "execution_count": null,
      "outputs": [
        {
          "output_type": "display_data",
          "data": {
            "text/plain": [
              "<Figure size 432x288 with 1 Axes>"
            ],
            "image/png": "[encoded data removed]"
          },
          "metadata": {
            "needs_background": "light"
          }
        }
      ]
    },
    {
      "cell_type": "code",
      "source": [
        "#identify the centre coordinates of the data. Will help in visualization\n",
        "centre_x=winam_with_lake[\"geometry\"][0].centroid.x\n",
        "centre_y=winam_with_lake[\"geometry\"][0].centroid.y\n",
        "centroid=[centre_x,centre_y]\n"
      ],
      "metadata": {
        "id": "UzZo6x4_d8i7"
      },
      "execution_count": null,
      "outputs": []
    },
    {
      "cell_type": "code",
      "source": [
        "#identify the geomety enclosing our dataset. the imagery will be clipped to this area of interest\n",
        "\n",
        "\n",
        "\n",
        "#print(list(winam_with_lake_AOI[\"geometry\"][0].exterior.coords))\n",
        "winam_with_lake_geom=winam_with_lake[\"geometry\"][0]\n",
        "winam_without_lake_geom=winam_without_lake[\"geometry\"][0]\n",
        "winam_lake_geom=winam_lake[\"geometry\"][0]\n",
        "\n",
        "#consists of a polygon in a multipolygon set up. get the polygon.\n",
        "winam_with_lake_poly=winam_with_lake_geom[0]\n",
        "winam_without_lake_poly=winam_without_lake_geom[0]\n",
        "winam_lake_poly=winam_lake_geom[0]\n",
        "\n",
        "#get the outside coords\n",
        "ext_coord_winam_with_lake=list(winam_with_lake_poly.exterior.coords)\n",
        "ext_coord_winam_without_lake=list(winam_without_lake_poly.exterior.coords)\n",
        "ext_coord_winam_lake=list(winam_lake_poly.exterior.coords)\n",
        "\n",
        "#generate an Earth Engine polygon of the input coordinates\n",
        "geometry_winam_with_lake=ee.Geometry.Polygon(ext_coord_winam_with_lake)\n",
        "geometry_winam_without_lake=ee.Geometry.Polygon(ext_coord_winam_without_lake)\n",
        "true_geometry_winam_lake=ee.Geometry.Polygon(ext_coord_winam_lake)\n",
        "\n",
        "'for the lake or any shapefile with intersecting or generally invalid geometry, gets ignored by GEE. better to use the bounding box in this case'\n",
        "#minx=winam_lake.bounds['minx'].values[0]\n",
        "#miny=winam_lake.bounds['miny'].values[0]\n",
        "#maxx=winam_lake.bounds['maxx'].values[0]\n",
        "#maxy=winam_lake.bounds['maxy'].values[0]\n",
        "#geometry_winam_lake = ee.Geometry.Rectangle([minx,miny,maxx,maxy])\n"
      ],
      "metadata": {
        "id": "X6yQ7egFfbKI"
      },
      "execution_count": null,
      "outputs": []
    },
    {
      "cell_type": "markdown",
      "metadata": {
        "id": "RMBvT_V355PW"
      },
      "source": [
        "## Generate Landsat , Chirps and MODIS data using Google Earth Engine\n",
        "\n",
        "**Note**: You'll need to sign up for access to Google Earth Engine at https://code.earthengine.google.com/. "
      ]
    },
    {
      "cell_type": "code",
      "source": [
        "\"\"\"\n",
        "\n",
        "\n",
        "ID\tDescription\n",
        "LT04\tLandsat 4, Thematic Mapper (TM)  16th July 1982 to 14th December 1993  temp band: ST_B6  , red:SR_B3    ,nir:SR_B4  ,swir:SR_B5\n",
        "LT05\tLandsat 5, Thematic Mapper (TM)   1st March 1984 to 5th June 2013  temp band: ST_B6   , red: SR_B3   , nir:SR_B4  ,swir: SR_B5\n",
        "LE07\tLandsat 7, Enhanced Thematic Mapper Plus (ETM+) 15th 1999 to 6 April 2022  temp band: ST_B6  , red: SR_B3 , nir:SR_B4 ,swir:SR_B5\n",
        "LC08\tLandsat 8, Operational Land Imager (OLI) April 2013 to present   temp band: ST_B10,   red:SR_B4   ,nir: SR_B5 ,swir:SR_B6\n",
        "\n",
        "\"\"\""
      ],
      "metadata": {
        "id": "JtRFPDAhd5hy"
      },
      "execution_count": null,
      "outputs": []
    },
    {
      "cell_type": "code",
      "source": [
        "# this function identifies relevant chirps, landsat and modis data and calculates montly statistics from them\n",
        "\n",
        "def calculate_stats(year,duration_in_years,region_aoi,lake_aoi): \n",
        "  dict_month_year={\"Year\":[],\"month\":[],\"mean_monthly_temp\":[],\"mean_monthly_rainfall\":[],\"littoral_mean_monthly_ndvi\":[],\"littoral_vegetation_area\":[],\"mean_monthly_ndbi\":[],\"Bare_soil_area\":[],\"mean_monthly_ndwi\":[],\"water_area\":[],\"hyacinth_mean_monthly_ndvi\":[],\"hyacinth_area\":[]}  \n",
        "\n",
        "\n",
        "\n",
        "\n",
        "  # year, month, date format\n",
        "  for i in range(duration_in_years):\n",
        "    current_year=year+i\n",
        "\n",
        "    if current_year>=1983 and year<1994:\n",
        "      landsat_sat=\"LANDSAT/LT04/C02/T1_L2\"\n",
        "      green_band='SR_B2'\n",
        "      red_band='SR_B3'\n",
        "      nir_band='SR_B4'\n",
        "      swir_band='SR_B5'\n",
        "      temp_band= 'ST_B6'\n",
        "    if current_year>=1995 and year<1999:\n",
        "      landsat_sat=\"LANDSAT/LT05/C02/T1_L2\"\n",
        "      green_band='SR_B2'\n",
        "      red_band='SR_B3'\n",
        "      nir_band='SR_B4'\n",
        "      swir_band='SR_B5'\n",
        "      temp_band= 'ST_B6'\n",
        "    if current_year>=1999 and year<2022:\n",
        "      landsat_sat='LANDSAT/LE07/C02/T1_L2'\n",
        "      green_band='SR_B2'\n",
        "      red_band='SR_B3'\n",
        "      nir_band='SR_B4'\n",
        "      swir_band='SR_B5' \n",
        "      temp_band='ST_B6'\n",
        "    if current_year==2022:\n",
        "      landsat_sat='LANDSAT/LC08/C02/T1_L2'\n",
        "      green_band='SR_B3'\n",
        "      red_band='SR_B4'\n",
        "      nir_band='SR_B5'\n",
        "      swir_band='SR_B6' \n",
        "      temp_band='ST_B10'\n",
        "\n",
        "\n",
        "\n",
        "\n",
        "\n",
        "    for k in range(1,12+1):\n",
        "      print(\"year {}, month {}\".format(current_year,k))\n",
        "      \n",
        "      start_date=\"{}-{}-{}\".format(year+i,k,1)\n",
        "      end_date=\"{}-{}-{}\".format(year+i,k,31)\n",
        "    \n",
        "      if k==2:\n",
        "        start_date=\"{}-{}-{}\".format(year+i,k,1)\n",
        "        end_date=\"{}-{}-{}\".format(year+i,k,28)\n",
        "\n",
        "      if k==4 or k==6 or k==9 or k==11:\n",
        "        start_date=\"{}-{}-{}\".format(year+i,k,1)\n",
        "        end_date=\"{}-{}-{}\".format(year+i,k,30)\n",
        "\n",
        "      \n",
        "\n",
        "      def ndvi(aoi):\n",
        "        try:\n",
        "          landsat_band_image=ee.ImageCollection(landsat_sat).filterBounds(aoi).filterDate(start_date,end_date).mean()\n",
        "          \n",
        "          nir=landsat_band_image.select(nir_band)\n",
        "          red=landsat_band_image.select(red_band)\n",
        "\n",
        "          ndvi=nir.subtract(red).divide(nir.add(red)).rename('ndvi')\n",
        "\n",
        "          ndvi_redu=ndvi.reduceRegion(reducer=ee.Reducer.mean(),geometry=aoi,scale=100,maxPixels=1e9)\n",
        "          ndvi_val=round(ndvi_redu.get('ndvi').getInfo(), 2)\n",
        "\n",
        "          #identify pixels whose value is greater than 0.1\n",
        "          \n",
        "          ndvi_greater_than_0_1=ndvi.gte(0.1).selfMask()\n",
        "          ndvi_count=ndvi_greater_than_0_1.reduceRegion(reducer=ee.Reducer.count(),geometry=aoi,scale=100,maxPixels=1e9)\n",
        "          ndvi_count=ndvi_count.get('ndvi').getInfo()\n",
        "          ndvi_area=(ndvi_count*(30*30))/1000000# converting to km²\n",
        "\n",
        "          print(\"ndvi count is\", ndvi_count)\n",
        "        except:\n",
        "          ndvi_val=0\n",
        "          ndvi_area=0\n",
        "\n",
        "        return(ndvi_val,ndvi_area,ndvi)\n",
        "\n",
        "        #####\n",
        "      \n",
        "\n",
        "\n",
        "      def satellite_modis(start_day,end_day):\n",
        "        try:\n",
        "         lst_modis = ee.ImageCollection('MODIS/006/MOD11A2').filterDate(start_day,end_day).select('LST_Day_1km').filterBounds(region_aoi)\n",
        "         lst_img_modis = lst_modis.mean()\n",
        "               \n",
        "         lst_img_modis = lst_img_modis.select('LST_Day_1km').multiply(0.02) #scale the Modis image\n",
        "         lst_img_modis = lst_img_modis.select('LST_Day_1km').add(-273.15).clip(region_aoi)\n",
        "  \n",
        "         meanDictionary_modis = lst_img.reduceRegion(reducer=ee.Reducer.mean(),geometry=region_aoi,scale=1000,maxPixels=1e9)\n",
        "         monthly_values=round(meanDictionary_modis.get('LST_Day_1km').getInfo(), 2)\n",
        "        \n",
        "        except:\n",
        "          monthly_values=0\n",
        "\n",
        "        return monthly_values\n",
        "      \n",
        "        \n",
        "      try: \n",
        "\n",
        "        lst = ee.ImageCollection(landsat_sat).filterDate(start_date,end_date).select(temp_band).filterBounds(region_aoi) \n",
        "         \n",
        "        lst_img = lst.mean()\n",
        "        lst_img = lst_img.select(temp_band).multiply(0.00341802).add(149.0) #scale the Landsat image\n",
        "        lst_img = lst_img.select(temp_band).add(-273.15).clip(region_aoi)#.convert to degree Celcius\n",
        "\n",
        "        meanDictionary_landsat = lst_img.reduceRegion(reducer=ee.Reducer.mean(),geometry=region_aoi,scale=100,maxPixels=1e9)\n",
        "         \n",
        "        monthly_values=round(meanDictionary_landsat.get(temp_band).getInfo())\n",
        " \n",
        "      except:\n",
        "        monthly_values=satellite_modis(start_date,end_date)\n",
        "         \n",
        "      try:\n",
        "        rain = ee.ImageCollection('UCSB-CHG/CHIRPS/DAILY').filter(ee.Filter.date(start_date,end_date)).select(\"precipitation\").filterBounds(region_aoi)\n",
        "        rain_img = rain.mean()\n",
        "\n",
        "        meanDictionary_rain = rain_img.reduceRegion(reducer=ee.Reducer.mean(),geometry=region_aoi,scale=100,maxPixels=1e9)\n",
        "        monthly_values_rain=round(meanDictionary_rain.get('precipitation').getInfo(), 2)\n",
        "          \n",
        "      except:\n",
        "        monthly_values_rain=0\n",
        "\n",
        "      #NDVI\n",
        "      ndvi_val_adjacent_land,ndvi_area_adjacent_land,ndvi_adjacent_land=ndvi(region_aoi)\n",
        "\n",
        "        #####\n",
        "\n",
        "\n",
        "      #NDBI\n",
        "      try:\n",
        "        landsat_band_image=ee.ImageCollection(landsat_sat).filterBounds(region_aoi).filterDate(start_date,end_date).mean()\n",
        "          \n",
        "        nir=landsat_band_image.select(nir_band)\n",
        "        swir1=landsat_band_image.select(swir_band)\n",
        "\n",
        "        ndbi=swir1.subtract(nir).divide(swir1.add(nir)).rename(\"ndbi\")\n",
        "\n",
        "        ndbi_redu=ndbi.reduceRegion(reducer=ee.Reducer.mean(),geometry=region_aoi,scale=100,maxPixels=1e9)\n",
        "        ndbi_val=round(ndbi_redu.get('ndbi').getInfo(), 2)\n",
        "\n",
        "        #identify pixels whose value is greater than 0\n",
        "        ndbi_greater_than_0=ndbi.gte(0).selfMask()\n",
        "        ndbi_count=ndbi_greater_than_0.reduceRegion(reducer=ee.Reducer.count(),geometry=geometry_winam_with_lake,scale=100,maxPixels=1e9)\n",
        "          \n",
        "        ndbi_count=ndbi_count.get('ndbi').getInfo()\n",
        "        print(\"ndbi_count\",ndbi_count)\n",
        "        ndbi_area=(ndbi_count*(30*30))/1000000# converting to km²\n",
        "          \n",
        "      except:\n",
        "          ndbi_val=0\n",
        "          ndbi_area=0\n",
        "\n",
        "        #####\n",
        "        \n",
        "      #NDWI\n",
        "      try:\n",
        "\n",
        "        landsat_band_image=ee.ImageCollection(landsat_sat).filterBounds(lake_aoi).filterDate(start_date,end_date).mean()\n",
        "            \n",
        "        nir=landsat_band_image.select(nir_band)\n",
        "        green=landsat_band_image.select(green_band)\n",
        "\n",
        "        ndwi=green.subtract(nir).divide(green.add(nir)).rename(\"ndwi\")\n",
        "        \n",
        "        ndwi_redu=ndwi.reduceRegion(reducer=ee.Reducer.mean(),geometry=lake_aoi,scale=100,maxPixels=1e9)\n",
        "        ndwi_val=round(ndwi_redu.get('ndwi').getInfo(), 2)\n",
        "        \n",
        "\n",
        "        #identify pixels whose value is greater than 0.2\n",
        "        ndwi_greater_than_0_2=ndwi.gte(0.2).selfMask()\n",
        "        ndwi_count=ndwi_greater_than_0_2.reduceRegion(reducer=ee.Reducer.count(),geometry=lake_aoi,scale=100,maxPixels=1e9)\n",
        "        ndwi_count=ndwi_count.get('ndwi').getInfo()\n",
        "        print(\"ndwi_count is\", ndwi_count)\n",
        "        ndwi_area=(ndwi_count*(30*30))/1000000# converting to km²\n",
        "        #gulf_water_area=1800735160 #winam gulf water mass area(in m^2)9minus the islands. will not use it      \n",
        "          \n",
        "      except:\n",
        "        ndwi_val=0\n",
        "        ndwi_area=0\n",
        "\n",
        "      # NDVI- for the lake region\n",
        "      hyacinth_val,hyacinth_area,hyacinth_ndvi=ndvi(lake_aoi)\n",
        "      \n",
        "\n",
        "      \n",
        "\n",
        "        #####\n",
        "                \n",
        "     \n",
        "      \n",
        "      dict_month_year[\"Year\"].append(current_year)\n",
        "      dict_month_year[\"month\"].append(k)\n",
        "      dict_month_year[\"mean_monthly_temp\"].append(monthly_values)\n",
        "      dict_month_year[\"mean_monthly_rainfall\"].append(monthly_values_rain)\n",
        "        \n",
        "\n",
        "        \n",
        "      dict_month_year[\"littoral_mean_monthly_ndvi\"].append(ndvi_val_adjacent_land)\n",
        "      dict_month_year[\"littoral_vegetation_area\"].append(ndvi_area_adjacent_land)\n",
        "      dict_month_year[\"mean_monthly_ndbi\"].append(ndbi_val)\n",
        "      dict_month_year[\"Bare_soil_area\"].append(ndbi_area)\n",
        "        \n",
        "        \n",
        "      dict_month_year[\"mean_monthly_ndwi\"].append(ndwi_val)\n",
        "      dict_month_year[\"water_area\"].append(ndwi_area)\n",
        "      dict_month_year[\"hyacinth_mean_monthly_ndvi\"].append(hyacinth_val)\n",
        "      dict_month_year[\"hyacinth_area\"].append(hyacinth_area)\n",
        "          \n",
        "          \n",
        "      print(dict_month_year[\"Year\"],dict_month_year[\"month\"],dict_month_year[\"mean_monthly_temp\"],dict_month_year[\"mean_monthly_rainfall\"],dict_month_year[\"littoral_mean_monthly_ndvi\"],dict_month_year[\"littoral_vegetation_area\"],dict_month_year[\"mean_monthly_ndbi\"],dict_month_year[\"Bare_soil_area\"],dict_month_year[\"mean_monthly_ndwi\"],dict_month_year[\"water_area\"],dict_month_year[\"hyacinth_mean_monthly_ndvi\"],dict_month_year[\"hyacinth_area\"])\n",
        "    \n",
        "  return dict_month_year,hyacinth_ndvi\n"
      ],
      "metadata": {
        "id": "WNB7Sx0k9BJh"
      },
      "execution_count": null,
      "outputs": []
    },
    {
      "cell_type": "code",
      "source": [
        "#call the function and calculate monthly statistics for 39 years\n",
        "landsat_winam_data,ndvi=calculate_stats(1984,39,geometry_winam_without_lake,true_geometry_winam_lake)\n"
      ],
      "metadata": {
        "id": "wHgeJ2W2Zd3L"
      },
      "execution_count": null,
      "outputs": []
    },
    {
      "cell_type": "code",
      "source": [
        "print(ndvi)"
      ],
      "metadata": {
        "id": "rbbq6AN0d6Ja"
      },
      "execution_count": null,
      "outputs": []
    },
    {
      "cell_type": "markdown",
      "source": [],
      "metadata": {
        "id": "krAy87fpkeUT"
      }
    },
    {
      "cell_type": "code",
      "source": [
        "#test for one month\n",
        "landsat_band_image=ee.ImageCollection(\"LANDSAT/LT04/C02/T1_L2\").filterBounds(geometry_winam_without_lake).filterDate('1990-02-01','1990-02-28').mean()\n",
        "#landsat_band_image=ee.ImageCollection('LANDSAT/LE07/C02/T1_L2').filterBounds(true_geometry_winam_lake).filterDate('2007-04-01','2007-04-28').mean()\n",
        "#landsat_band_image=ee.ImageCollection('LANDSAT/LE07/C02/T1_L2').filterBounds(true_geometry_winam_lake).filterDate('2012-04-01','2012-04-28').mean()\n",
        "#landsat_band_image=ee.ImageCollection('LANDSAT/LC08/C02/T1_L2').filterBounds(true_geometry_winam_lake).filterDate('2022-04-01','2022-04-28').mean()\n",
        "red_band='SR_B3'\n",
        "nir_band='SR_B4'         \n",
        "nir=landsat_band_image.select(nir_band)\n",
        "red=landsat_band_image.select(red_band)\n",
        "\n",
        "ndvi=nir.subtract(red).divide(nir.add(red)).rename('ndvi')"
      ],
      "metadata": {
        "id": "fyrIVt0ifLMC"
      },
      "execution_count": null,
      "outputs": []
    },
    {
      "cell_type": "code",
      "source": [
        "# Visualize the geometry \n",
        "Map = emap.Map(center=[centroid[1], centroid[0]], zoom=10)\n",
        "vis={'min':0,'max':1,'palette':['#FFFFFF','00FF00','FFFF00','000000',]}\n",
        "Map.addLayer(ndvi,vis,'NDVI')\n",
        "\n",
        "Map.addLayer(true_geometry_winam_lake, {}, 'Geometry')\n",
        "Map.addLayerControl()\n",
        "Map"
      ],
      "metadata": {
        "id": "A0IenYJCfj6k"
      },
      "execution_count": null,
      "outputs": []
    },
    {
      "cell_type": "code",
      "source": [
        "# put the dictionaries into a pandas dataframe\n",
        "\n",
        "landsat_winam_data_df=pd.DataFrame(landsat_winam_data)\n",
        "print(landsat_winam_data_df.head(12))\n",
        "\n"
      ],
      "metadata": {
        "id": "cWQbmU0KarjQ"
      },
      "execution_count": null,
      "outputs": []
    },
    {
      "cell_type": "code",
      "source": [
        "# export the data to drive\n",
        "landsat_winam_data_df.to_csv( './drive/My Drive/side gig/Hyacinth_eric/landsat_winam_data_0_1_ndvi_km2_v2.csv')\n",
        "\n",
        "\n"
      ],
      "metadata": {
        "id": "9Tviqa0JC85R"
      },
      "execution_count": null,
      "outputs": []
    },
    {
      "cell_type": "code",
      "source": [
        "#plot a sample of the data for 10 months\n",
        "months=list(range(50))\n",
        "plt.title(\"Monthly average ndvi\")\n",
        "plt.plot(months,landsat_winam_data_df[\"hyacinth_mean_monthly_ndvi\"][0:50])\n",
        "plt.xlabel(\"Months\")\n",
        "plt.ylabel(\"ndvi\")#\"Temp in °C\"\n",
        "plt.show()"
      ],
      "metadata": {
        "id": "0WlDdzBI4qDA"
      },
      "execution_count": null,
      "outputs": []
    }
  ]
}